{
 "cells": [
  {
   "cell_type": "code",
   "execution_count": 2,
   "metadata": {},
   "outputs": [
    {
     "name": "stdout",
     "output_type": "stream",
     "text": [
      "Jupyter environment detected. Enabling Open3D WebVisualizer.\n",
      "[Open3D INFO] WebRTC GUI backend enabled.\n",
      "[Open3D INFO] WebRTCWindowSystem: HTTP handshake server disabled.\n"
     ]
    }
   ],
   "source": [
    "import numpy as np\n",
    "import pandas as pd\n",
    "import laspy\n",
    "from scipy import stats\n",
    "\n",
    "# Data visualization tools\n",
    "import open3d as o3d\n",
    "import pymeshlab as pml"
   ]
  },
  {
   "cell_type": "code",
   "execution_count": 9,
   "metadata": {},
   "outputs": [
    {
     "name": "stdout",
     "output_type": "stream",
     "text": [
      "X Max :  505144.08\n",
      "X Min :  503910.39\n",
      "Y Max :  4812039.04\n",
      "Y Min :  4811302.0200000005\n",
      "Z Max :  3445.2000000000003\n",
      "Z Min :  2208.16\n"
     ]
    }
   ],
   "source": [
    "las = laspy.read('../data/Smaller Points.las')\n",
    "print(\"X Max : \",las.header.x_max)\n",
    "print(\"X Min : \",las.header.x_min)\n",
    "print(\"Y Max : \",las.header.y_max)\n",
    "print(\"Y Min : \",las.header.y_min)\n",
    "print(\"Z Max : \",las.header.z_max)\n",
    "print(\"Z Min : \",las.header.z_min)"
   ]
  },
  {
   "cell_type": "code",
   "execution_count": 39,
   "metadata": {},
   "outputs": [
    {
     "ename": "PyMeshLabException",
     "evalue": "Unknown format for load: las",
     "output_type": "error",
     "traceback": [
      "\u001b[1;31m---------------------------------------------------------------------------\u001b[0m",
      "\u001b[1;31mPyMeshLabException\u001b[0m                        Traceback (most recent call last)",
      "Cell \u001b[1;32mIn [39], line 2\u001b[0m\n\u001b[0;32m      1\u001b[0m ms \u001b[39m=\u001b[39m pml\u001b[39m.\u001b[39mMeshSet()\n\u001b[1;32m----> 2\u001b[0m ms\u001b[39m.\u001b[39;49mload_new_mesh(\u001b[39m'\u001b[39;49m\u001b[39m../data/Smaller Points.las\u001b[39;49m\u001b[39m'\u001b[39;49m)\n",
      "\u001b[1;31mPyMeshLabException\u001b[0m: Unknown format for load: las"
     ]
    }
   ],
   "source": [
    "ms = pml.MeshSet()\n",
    "ms.load_new_mesh('../data/Smaller Points.las')"
   ]
  },
  {
   "cell_type": "code",
   "execution_count": 22,
   "metadata": {},
   "outputs": [
    {
     "data": {
      "text/html": [
       "<div>\n",
       "<style scoped>\n",
       "    .dataframe tbody tr th:only-of-type {\n",
       "        vertical-align: middle;\n",
       "    }\n",
       "\n",
       "    .dataframe tbody tr th {\n",
       "        vertical-align: top;\n",
       "    }\n",
       "\n",
       "    .dataframe thead th {\n",
       "        text-align: right;\n",
       "    }\n",
       "</style>\n",
       "<table border=\"1\" class=\"dataframe\">\n",
       "  <thead>\n",
       "    <tr style=\"text-align: right;\">\n",
       "      <th></th>\n",
       "      <th>X</th>\n",
       "      <th>Y</th>\n",
       "      <th>Z</th>\n",
       "    </tr>\n",
       "  </thead>\n",
       "  <tbody>\n",
       "    <tr>\n",
       "      <th>0</th>\n",
       "      <td>50391098</td>\n",
       "      <td>481201868</td>\n",
       "      <td>254735</td>\n",
       "    </tr>\n",
       "    <tr>\n",
       "      <th>1</th>\n",
       "      <td>50391262</td>\n",
       "      <td>481201934</td>\n",
       "      <td>253735</td>\n",
       "    </tr>\n",
       "    <tr>\n",
       "      <th>2</th>\n",
       "      <td>50391113</td>\n",
       "      <td>481202380</td>\n",
       "      <td>252758</td>\n",
       "    </tr>\n",
       "    <tr>\n",
       "      <th>3</th>\n",
       "      <td>50391117</td>\n",
       "      <td>481202301</td>\n",
       "      <td>253247</td>\n",
       "    </tr>\n",
       "    <tr>\n",
       "      <th>4</th>\n",
       "      <td>50391159</td>\n",
       "      <td>481202241</td>\n",
       "      <td>253479</td>\n",
       "    </tr>\n",
       "    <tr>\n",
       "      <th>...</th>\n",
       "      <td>...</td>\n",
       "      <td>...</td>\n",
       "      <td>...</td>\n",
       "    </tr>\n",
       "    <tr>\n",
       "      <th>4433780</th>\n",
       "      <td>50514077</td>\n",
       "      <td>481203902</td>\n",
       "      <td>256352</td>\n",
       "    </tr>\n",
       "    <tr>\n",
       "      <th>4433781</th>\n",
       "      <td>50514172</td>\n",
       "      <td>481203897</td>\n",
       "      <td>256398</td>\n",
       "    </tr>\n",
       "    <tr>\n",
       "      <th>4433782</th>\n",
       "      <td>50514257</td>\n",
       "      <td>481203901</td>\n",
       "      <td>256385</td>\n",
       "    </tr>\n",
       "    <tr>\n",
       "      <th>4433783</th>\n",
       "      <td>50514346</td>\n",
       "      <td>481203904</td>\n",
       "      <td>256384</td>\n",
       "    </tr>\n",
       "    <tr>\n",
       "      <th>4433784</th>\n",
       "      <td>50511734</td>\n",
       "      <td>481203850</td>\n",
       "      <td>256937</td>\n",
       "    </tr>\n",
       "  </tbody>\n",
       "</table>\n",
       "<p>4433785 rows × 3 columns</p>\n",
       "</div>"
      ],
      "text/plain": [
       "                X          Y       Z\n",
       "0        50391098  481201868  254735\n",
       "1        50391262  481201934  253735\n",
       "2        50391113  481202380  252758\n",
       "3        50391117  481202301  253247\n",
       "4        50391159  481202241  253479\n",
       "...           ...        ...     ...\n",
       "4433780  50514077  481203902  256352\n",
       "4433781  50514172  481203897  256398\n",
       "4433782  50514257  481203901  256385\n",
       "4433783  50514346  481203904  256384\n",
       "4433784  50511734  481203850  256937\n",
       "\n",
       "[4433785 rows x 3 columns]"
      ]
     },
     "execution_count": 22,
     "metadata": {},
     "output_type": "execute_result"
    }
   ],
   "source": [
    "point_data = np.stack([las.X, las.Y, las.Z], axis=0).transpose((1, 0))\n",
    "df = pd.DataFrame(point_data)\n",
    "df.rename({0: 'X', 1: 'Y',   2: 'Z'}, inplace=True, axis=1)\n",
    "df"
   ]
  },
  {
   "cell_type": "code",
   "execution_count": 37,
   "metadata": {},
   "outputs": [
    {
     "ename": "RuntimeError",
     "evalue": "[Open3D Error] (class std::shared_ptr<class open3d::core::MemoryManagerDevice> __cdecl open3d::core::MemoryManager::GetMemoryManagerDevice(const class open3d::core::Device &)) D:\\a\\Open3D\\Open3D\\cpp\\open3d\\core\\MemoryManager.cpp:142: Unsupported device \"CUDA:0\". Set BUILD_CUDA_MODULE=ON to compile for CUDA support and BUILD_SYCL_MODULE=ON to compile for SYCL support.\n",
     "output_type": "error",
     "traceback": [
      "\u001b[1;31m---------------------------------------------------------------------------\u001b[0m",
      "\u001b[1;31mRuntimeError\u001b[0m                              Traceback (most recent call last)",
      "Cell \u001b[1;32mIn [37], line 1\u001b[0m\n\u001b[1;32m----> 1\u001b[0m point_tensor \u001b[39m=\u001b[39m o3c\u001b[39m.\u001b[39;49mTensor(point_data, device\u001b[39m=\u001b[39;49mo3c\u001b[39m.\u001b[39;49mDevice(\u001b[39m\"\u001b[39;49m\u001b[39mCUDA:0\u001b[39;49m\u001b[39m\"\u001b[39;49m))\n\u001b[0;32m      2\u001b[0m point_tensor\u001b[39m.\u001b[39mdevice\n",
      "\u001b[1;31mRuntimeError\u001b[0m: [Open3D Error] (class std::shared_ptr<class open3d::core::MemoryManagerDevice> __cdecl open3d::core::MemoryManager::GetMemoryManagerDevice(const class open3d::core::Device &)) D:\\a\\Open3D\\Open3D\\cpp\\open3d\\core\\MemoryManager.cpp:142: Unsupported device \"CUDA:0\". Set BUILD_CUDA_MODULE=ON to compile for CUDA support and BUILD_SYCL_MODULE=ON to compile for SYCL support.\n"
     ]
    }
   ],
   "source": [
    "point_tensor = o3c.Tensor(point_data, device=o3c.Device(\"CUDA:0\"))\n",
    "point_tensor.device"
   ]
  }
 ],
 "metadata": {
  "kernelspec": {
   "display_name": "Python 3.10.7 ('lidar-TLitFjKi')",
   "language": "python",
   "name": "python3"
  },
  "language_info": {
   "codemirror_mode": {
    "name": "ipython",
    "version": 3
   },
   "file_extension": ".py",
   "mimetype": "text/x-python",
   "name": "python",
   "nbconvert_exporter": "python",
   "pygments_lexer": "ipython3",
   "version": "3.10.7"
  },
  "orig_nbformat": 4,
  "vscode": {
   "interpreter": {
    "hash": "4c0114a6158beeac793d4867e3feb711a4d603c5fc04e2491ccab2da60aedb2b"
   }
  }
 },
 "nbformat": 4,
 "nbformat_minor": 2
}
